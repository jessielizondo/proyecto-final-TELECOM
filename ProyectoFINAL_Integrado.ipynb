{
 "cells": [
  {
   "cell_type": "markdown",
   "id": "ea57d939",
   "metadata": {},
   "source": [
    "# Proyecto Final — Notebook Integrado\n",
    "\n",
    "Este cuaderno combina **Parte 1 (Preprocesamiento)** y **Parte 2 (Modelado y Evaluación)** en un solo flujo reproducible.\n",
    "\n",
    "- Fuente 1: `ProyectoFINAL_Pt1.ipynb`\n",
    "- Fuente 2: `ProyectoFINAL_COMPLETO.ipynb`\n",
    "\n",
    "> Sugerencia: ejecuta las celdas en orden; todas las salidas fueron limpiadas para evitar confusiones."
   ]
  },
  {
   "cell_type": "markdown",
   "id": "0f5dd9c6",
   "metadata": {},
   "source": [
    "## 📣 Pronóstico de tasa de cancelación de clientes - Telecom"
   ]
  },
  {
   "cell_type": "markdown",
   "id": "1d9567c8",
   "metadata": {},
   "source": [
    "# 📣 Pronóstico de tasa de cancelación de clientes - Telecom"
   ]
  },
  {
   "cell_type": "markdown",
   "id": "2a3b3b04",
   "metadata": {},
   "source": [
    "## 📌 Introducción\n",
    "Al operador de telecomunicaciones Interconnect le gustaría poder pronosticar su tasa de cancelación de clientes. \n",
    "    \n",
    "Si se descubre que un usuario o usuaria planea irse, se le ofrecerán códigos promocionales y opciones de planes especiales. \n",
    " \n",
    "\n",
    "## 🎯 Problema de negocio\n",
    "La clientela puede elegir entre un pago mensual o firmar un contrato de 1 o 2 años. Puede utilizar varios métodos de pago y recibir una factura electrónica después de una transacción. Telecom necesita descubrir si un usuario o usuaria planea irse, para ofrecerle códigos promocionales y opciones de planes especiales. \n",
    "\n",
    "\n",
    "## 🔍 Objetivo del proyecto\n",
    "✔ Preparar un *snapshot* al **01-feb-2020** y un dataset limpio para modelado donde la **clase positiva** sea **`stay = 1`** (cliente activo, `EndDate == \"No\"`).  \n"
   ]
  },
  {
   "cell_type": "markdown",
   "id": "990d7ac4",
   "metadata": {},
   "source": [
    "## Inicialización"
   ]
  },
  {
   "cell_type": "code",
   "execution_count": null,
   "id": "2b1892e1",
   "metadata": {},
   "outputs": [],
   "source": [
    "# Cargar todas las librerías\n",
    "import pandas as pd\n",
    "import matplotlib.pyplot as plt\n",
    "import seaborn as sns\n",
    "from scipy import stats as st\n",
    "import numpy as np"
   ]
  },
  {
   "cell_type": "code",
   "execution_count": null,
   "id": "574e497c",
   "metadata": {},
   "outputs": [],
   "source": [
    "df_contract = pd.read_csv(\"./datasets/contract.csv\")\n",
    "df_personal = pd.read_csv(\"./datasets/personal.csv\")\n",
    "df_internet = pd.read_csv(\"./datasets/internet.csv\")\n",
    "df_phone    = pd.read_csv(\"./datasets/phone.csv\")"
   ]
  },
  {
   "cell_type": "markdown",
   "id": "aea290db",
   "metadata": {},
   "source": [
    "## 📌 1. Descripción y preprocesamiento de los datos "
   ]
  },
  {
   "cell_type": "markdown",
   "id": "17419e4d",
   "metadata": {},
   "source": [
    "## 🎯 1.1  Contract"
   ]
  },
  {
   "cell_type": "code",
   "execution_count": null,
   "id": "0c20e21d",
   "metadata": {},
   "outputs": [],
   "source": [
    "print('Dimensiones:', df_contract.shape)\n",
    "print('\\nTipos de datos:')\n",
    "df_contract.info()\n"
   ]
  },
  {
   "cell_type": "code",
   "execution_count": null,
   "id": "e675583a",
   "metadata": {},
   "outputs": [],
   "source": [
    "df_contract.head(5)"
   ]
  },
  {
   "cell_type": "markdown",
   "id": "80516b03",
   "metadata": {},
   "source": [
    "### 🧹 1.1.1 Convertir fechas a datetime"
   ]
  },
  {
   "cell_type": "code",
   "execution_count": null,
   "id": "27ca40a4",
   "metadata": {},
   "outputs": [],
   "source": [
    "df_contract[\"BeginDate\"] = pd.to_datetime(df_contract[\"BeginDate\"])\n",
    "df_contract[\"EndDate\"]   = pd.to_datetime(df_contract[\"EndDate\"], errors=\"coerce\")  \n",
    "df_contract[\"MonthlyCharges\"] = pd.to_numeric(df_contract[\"MonthlyCharges\"], errors=\"coerce\")\n",
    "df_contract[\"TotalCharges\"]   = pd.to_numeric(df_contract[\"TotalCharges\"],   errors=\"coerce\")"
   ]
  },
  {
   "cell_type": "markdown",
   "id": "796fff15",
   "metadata": {},
   "source": [
    "### 🧹 1.1.2 Tenure al snapshot"
   ]
  },
  {
   "cell_type": "code",
   "execution_count": null,
   "id": "4728bf4f",
   "metadata": {},
   "outputs": [],
   "source": [
    "snapshot = pd.Timestamp(\"2020-02-01\")\n",
    "df_contract[\"tenure_months\"] = (((snapshot - df_contract[\"BeginDate\"]).dt.days)\n",
    "                             .clip(lower=0) / 30.44).round().astype(int)"
   ]
  },
  {
   "cell_type": "markdown",
   "id": "d9b6a94d",
   "metadata": {},
   "source": [
    "### 🛑 1.1.3 Etiquetas"
   ]
  },
  {
   "cell_type": "code",
   "execution_count": null,
   "id": "fcdc6d24",
   "metadata": {},
   "outputs": [],
   "source": [
    "df_contract[\"churn\"] = df_contract[\"EndDate\"].notna().astype(int)   # 1 = se va\n",
    "df_contract[\"stay\"]  = df_contract[\"EndDate\"].isna().astype(int)    # 1 = se queda (objetivo)"
   ]
  },
  {
   "cell_type": "code",
   "execution_count": null,
   "id": "79845c0c",
   "metadata": {},
   "outputs": [],
   "source": [
    "df_contract.head(5)"
   ]
  },
  {
   "cell_type": "markdown",
   "id": "82337d5c",
   "metadata": {},
   "source": [
    "## 🎯 1.2 Personal"
   ]
  },
  {
   "cell_type": "code",
   "execution_count": null,
   "id": "e4b90c8c",
   "metadata": {},
   "outputs": [],
   "source": [
    "print('Dimensiones:', df_personal.shape)\n",
    "print('\\nTipos de datos:')\n",
    "df_personal.info()"
   ]
  },
  {
   "cell_type": "code",
   "execution_count": null,
   "id": "7571fcaa",
   "metadata": {},
   "outputs": [],
   "source": [
    "df_personal.head(5)"
   ]
  },
  {
   "cell_type": "markdown",
   "id": "51592202",
   "metadata": {},
   "source": [
    "## 🎯 1.3 Internet"
   ]
  },
  {
   "cell_type": "code",
   "execution_count": null,
   "id": "7e8c32ae",
   "metadata": {},
   "outputs": [],
   "source": [
    "print('Dimensiones:', df_internet.shape)\n",
    "print('\\nTipos de datos:')\n",
    "df_internet.info()\n"
   ]
  },
  {
   "cell_type": "code",
   "execution_count": null,
   "id": "ce593bce",
   "metadata": {},
   "outputs": [],
   "source": [
    "df_internet.head(5)"
   ]
  },
  {
   "cell_type": "markdown",
   "id": "03a113d0",
   "metadata": {},
   "source": [
    "## 🎯 1.4 Phone"
   ]
  },
  {
   "cell_type": "code",
   "execution_count": null,
   "id": "ef5e15e1",
   "metadata": {},
   "outputs": [],
   "source": [
    "print('Dimensiones:', df_phone.shape)\n",
    "print('\\nTipos de datos:')\n",
    "df_phone.info()\n"
   ]
  },
  {
   "cell_type": "code",
   "execution_count": null,
   "id": "a6f11ff9",
   "metadata": {},
   "outputs": [],
   "source": [
    "df_phone.head(5)"
   ]
  },
  {
   "cell_type": "markdown",
   "id": "ec6e8b0f",
   "metadata": {},
   "source": [
    "## 🖇️ 1.5 Unión por costumerID"
   ]
  },
  {
   "cell_type": "code",
   "execution_count": null,
   "id": "1a844263",
   "metadata": {},
   "outputs": [],
   "source": [
    "df = (df_contract\n",
    "      .merge(df_personal, on=\"customerID\", how=\"left\")\n",
    "      .merge(df_internet, on=\"customerID\", how=\"left\")\n",
    "      .merge(df_phone,    on=\"customerID\", how=\"left\"))"
   ]
  },
  {
   "cell_type": "code",
   "execution_count": null,
   "id": "e98e4b09",
   "metadata": {},
   "outputs": [],
   "source": [
    "df.head(10)"
   ]
  },
  {
   "cell_type": "code",
   "execution_count": null,
   "id": "76d758ec",
   "metadata": {},
   "outputs": [],
   "source": [
    "df.info()"
   ]
  },
  {
   "cell_type": "markdown",
   "id": "597c151c",
   "metadata": {},
   "source": [
    "## 📍 1.6 Indicadores y ausencias de servicio"
   ]
  },
  {
   "cell_type": "code",
   "execution_count": null,
   "id": "dbd0f245",
   "metadata": {},
   "outputs": [],
   "source": [
    "df[\"HasInternet\"] = df[\"InternetService\"].notna().astype(int)\n",
    "df[\"HasPhone\"]    = df[\"MultipleLines\"].notna().astype(int)\n",
    "\n",
    "internet_cols = [\"InternetService\",\"OnlineSecurity\",\"OnlineBackup\",\n",
    "                 \"DeviceProtection\",\"TechSupport\",\"StreamingTV\",\"StreamingMovies\"]\n",
    "for col in internet_cols:\n",
    "    df[col] = df[col].fillna(\"No\")\n",
    "df[\"MultipleLines\"] = df[\"MultipleLines\"].fillna(\"No\")"
   ]
  },
  {
   "cell_type": "markdown",
   "id": "fdd60ad6",
   "metadata": {},
   "source": [
    "## ✏️ 1.7 Normalización de categorías"
   ]
  },
  {
   "cell_type": "code",
   "execution_count": null,
   "id": "e7f5b33f",
   "metadata": {},
   "outputs": [],
   "source": [
    "n_cols = [\"PaperlessBilling\",\"Partner\",\"Dependents\"] + internet_cols + [\"MultipleLines\"]\n",
    "for col in n_cols:\n",
    "    if col in df:\n",
    "        df[col] = (df[col].astype(str).str.strip()\n",
    "                 .replace({\"No internet service\":\"No\", \"No phone service\":\"No\"}))"
   ]
  },
  {
   "cell_type": "code",
   "execution_count": null,
   "id": "49741fe3",
   "metadata": {},
   "outputs": [],
   "source": [
    "# Imputación mínima\n",
    "na_mask = df[\"TotalCharges\"].isna()\n",
    "df.loc[na_mask, \"TotalCharges\"] = (df.loc[na_mask, \"MonthlyCharges\"] * df.loc[na_mask, \"tenure_months\"]).round(2)\n"
   ]
  },
  {
   "cell_type": "code",
   "execution_count": null,
   "id": "04c75b88",
   "metadata": {},
   "outputs": [],
   "source": [
    "df[\"TotalCharges\"] = pd.to_numeric(df[\"TotalCharges\"], errors=\"coerce\")\n",
    "print(\"Nulos antes:\", df[\"TotalCharges\"].isna().sum())\n",
    "\n",
    "na_mask = df[\"TotalCharges\"].isna()\n",
    "df.loc[na_mask, \"TotalCharges\"] = (df.loc[na_mask, \"MonthlyCharges\"] * df.loc[na_mask, \"tenure_months\"]).round(2)\n",
    "\n",
    "print(\"Nulos después:\", df[\"TotalCharges\"].isna().sum())  # debería ser 0\n"
   ]
  },
  {
   "cell_type": "code",
   "execution_count": null,
   "id": "f4a697f1",
   "metadata": {},
   "outputs": [],
   "source": [
    "# Selección de columnas\n",
    "df_keep = [\"customerID\",\"stay\",\"churn\",\"MonthlyCharges\",\"TotalCharges\",\"tenure_months\",\n",
    "        \"Type\",\"PaperlessBilling\",\"PaymentMethod\",\"gender\",\"SeniorCitizen\",\"Partner\",\"Dependents\",\n",
    "        \"HasInternet\",\"HasPhone\",\"InternetService\",\"OnlineSecurity\",\"OnlineBackup\",\n",
    "        \"DeviceProtection\",\"TechSupport\",\"StreamingTV\",\"StreamingMovies\",\"MultipleLines\"]\n"
   ]
  },
  {
   "cell_type": "code",
   "execution_count": null,
   "id": "f0e5514c",
   "metadata": {},
   "outputs": [],
   "source": [
    "df_model = df[df_keep].copy()\n",
    "\n",
    "print(\"Shape final:\", df_model.shape)\n",
    "print(\"Proporción stay:\", round(df_model[\"stay\"].mean(), 4))\n",
    "print(\"Proporción churn:\", round(df_model[\"churn\"].mean(), 4))\n",
    "display(df_model.head())\n"
   ]
  },
  {
   "cell_type": "code",
   "execution_count": null,
   "id": "26d6eb49",
   "metadata": {},
   "outputs": [],
   "source": [
    "clean_csv = \"data_clean.csv\"\n",
    "df_model.to_csv(clean_csv, index=False)\n",
    "print(f\"Archivo guardado: {clean_csv}\")"
   ]
  },
  {
   "cell_type": "markdown",
   "id": "ca19fa31",
   "metadata": {},
   "source": [
    "## 📌 2. EDA"
   ]
  },
  {
   "cell_type": "code",
   "execution_count": null,
   "id": "c8428625",
   "metadata": {},
   "outputs": [],
   "source": [
    "(df_model.isna().sum()\n",
    " .sort_values(ascending=False)\n",
    " .to_frame(\"nulos\"))"
   ]
  },
  {
   "cell_type": "markdown",
   "id": "3636bc93",
   "metadata": {},
   "source": [
    "## 2.1 🔒 Stay Rate"
   ]
  },
  {
   "cell_type": "code",
   "execution_count": null,
   "id": "4cae0f54",
   "metadata": {},
   "outputs": [],
   "source": [
    "for col in [\"Type\",\"PaymentMethod\",\"InternetService\",\"OnlineSecurity\",\"TechSupport\",\"MultipleLines\"]:\n",
    "    print(f\"\\n>>> {col}\")\n",
    "    display((df_model.groupby(col)[\"stay\"]\n",
    "             .mean()\n",
    "             .sort_values(ascending=False)\n",
    "             .round(3)\n",
    "             .to_frame(\"stay_rate\")))"
   ]
  },
  {
   "cell_type": "markdown",
   "id": "d8884fd3",
   "metadata": {},
   "source": [
    "## 📊 2.2 Gráficos"
   ]
  },
  {
   "cell_type": "markdown",
   "id": "340e3154",
   "metadata": {},
   "source": [
    "### 2.2.1 Distribuciones"
   ]
  },
  {
   "cell_type": "code",
   "execution_count": null,
   "id": "9dbb8277",
   "metadata": {
    "scrolled": true
   },
   "outputs": [],
   "source": [
    "for col in [\"MonthlyCharges\",\"TotalCharges\",\"tenure_months\"]:\n",
    "    plt.figure()\n",
    "    df_model[col].dropna().hist(bins=30)\n",
    "    plt.title(f\"Distribución de {col}\")\n",
    "    plt.xlabel(col); plt.ylabel(\"Frecuencia\")\n",
    "    plt.show()"
   ]
  },
  {
   "cell_type": "markdown",
   "id": "7dd303ee",
   "metadata": {},
   "source": [
    "#### Conclusiones"
   ]
  },
  {
   "cell_type": "markdown",
   "id": "21bd605f",
   "metadata": {},
   "source": [
    "1) MonthlyCharges\n",
    "\n",
    "La distribución muestra que, a medida que la factura mensual sube, es más común que la permanencia baje.\n",
    "\n",
    "Sugerencia: vigilar aumentos de precio y ofrecer planes escalonados o beneficios a quienes pagan más.\n",
    "\n",
    "2) TotalCharges\n",
    "\n",
    "En la distribución se puede ver que los clientes con un alto acumulado tienden a seguir con la empresa, lo que prueba que cuanto más tiempo dentro, más se estabiliza la relación.\n",
    "\n",
    "Sugerencia: cuidar la experiencia temprana porque, una vez superada la etapa inicial, la permanencia mejora sola.\n",
    "\n",
    "3) tenure_months \n",
    "\n",
    "Se puede observar que los clientes que se quedan se agrupan en antigüedades medias y altas, mientras que quienes se van se concentran en los primeros meses.\n",
    "\n",
    "Sugerencia: dar seguimiento en los primeros meses.\n"
   ]
  },
  {
   "cell_type": "markdown",
   "id": "bf061df7",
   "metadata": {},
   "source": [
    "### 2.2.2 Tasa de clientes que se quedan"
   ]
  },
  {
   "cell_type": "code",
   "execution_count": null,
   "id": "d57e2b08",
   "metadata": {
    "scrolled": true
   },
   "outputs": [],
   "source": [
    "\n",
    "def bar_rate(df, cat_col, target='stay'):\n",
    "    rates = (df.groupby(cat_col)[target].mean().sort_values(ascending=False))\n",
    "    plt.figure()\n",
    "    rates.plot(kind=\"bar\")\n",
    "    plt.title(f\"Tasa de permanencia por {cat_col}\")\n",
    "    plt.ylabel(f\"{target}_rate\"); plt.xlabel(cat_col)\n",
    "    plt.ylim(0, 1); plt.xticks(rotation=45, ha=\"right\")\n",
    "    plt.tight_layout(); plt.show()\n",
    "\n",
    "for col in [\"Type\",\"PaymentMethod\",\"InternetService\",\"OnlineSecurity\",\"TechSupport\",\"MultipleLines\"]:\n",
    "    bar_rate(df_model, col, target=\"stay\")"
   ]
  },
  {
   "cell_type": "markdown",
   "id": "870e12c2",
   "metadata": {},
   "source": [
    "#### Conclusiones\n",
    "\n",
    "1) Type (tipo de contrato)\n",
    "\n",
    "En el gráfico se muestra que el contrato mensual es el segmento de mayor riesgo; los contratos anuales y bienales retienen mucho mejor.\n",
    "\n",
    "Sugerencia: ofrecer un incentivo para la retención de los clientes.\n",
    "\n",
    "2) PaymentMethod\n",
    "\n",
    "Se puede observar que los métodos automáticos se asocian con mejor retención.\n",
    "\n",
    "Sugerencia: Activar débito/autopay con un incentivo.\n",
    "\n",
    "4) InternetService\n",
    "\n",
    "Dentro de los clientes que tienen internet, fiber optic retiene peor que DSL. Esto probablemente se deba al precio y competencia de ese segmento. \n",
    "\n",
    "Sugerencia: Revisar la relación pricing-beneficios para fiber optic y comunicar el valor que lo distingue.\n",
    "\n",
    "5) OnlineSecurity\n",
    "\n",
    "Contar con seguridad online se asocia a más permanencia. \n",
    "\n",
    "Sugerencia: empaquetar la seguridad como beneficio de fidelidad y facilitar su adopción en clientes de riesgo.\n",
    "\n",
    "6) TechSupport\n",
    "\n",
    "Tener soporte técnico también coincide con mayor permanencia.\n",
    "\n",
    "Sugerencia: mantener un contacto proactivo con clientes de alto riesgo (sin soporte contratado)\n",
    "\n",
    "7) MultipleLines\n",
    "\n",
    "La señal es más tenue: no parece un driver principal por sí solo."
   ]
  },
  {
   "cell_type": "markdown",
   "id": "0ae6821c",
   "metadata": {},
   "source": [
    "### 2.3 Cargos mensuales por servicio"
   ]
  },
  {
   "cell_type": "code",
   "execution_count": null,
   "id": "c9241764",
   "metadata": {},
   "outputs": [],
   "source": [
    "cats = [c for c in df_model[\"InternetService\"].dropna().unique().tolist()]\n",
    "data = [df_model.loc[df_model[\"InternetService\"]==c, \"MonthlyCharges\"].dropna().values for c in cats]\n",
    "plt.figure()\n",
    "plt.boxplot(data, labels=cats, showmeans=True)\n",
    "plt.title(\"MonthlyCharges por InternetService\")\n",
    "plt.xlabel(\"InternetService\"); plt.ylabel(\"MonthlyCharges\")\n",
    "plt.tight_layout(); plt.show()"
   ]
  },
  {
   "cell_type": "markdown",
   "id": "cb3cdd48",
   "metadata": {},
   "source": [
    "#### Conclusiones\n",
    "\n",
    "Fiber optic aparece con las facturas mensuales más altas; DSL significativamente más bajo; sin internet, muy bajo. Esto conecta con lo visto anteriormente: precio alto + fibra = mayor riesgo. \n"
   ]
  },
  {
   "cell_type": "markdown",
   "id": "93da4a9c",
   "metadata": {},
   "source": [
    "### 2.5 Matriz de correlación"
   ]
  },
  {
   "cell_type": "code",
   "execution_count": null,
   "id": "d5a5e88a",
   "metadata": {},
   "outputs": [],
   "source": [
    "# Paso 1: Seleccionar columnas numéricas\n",
    "num_df = df_model.select_dtypes(include=[\"int64\", \"float64\"])\n",
    "\n",
    "# Paso 2: Identificar columnas binarias (solo contienen 0 y 1)\n",
    "binary_cols = [col for col in num_df.columns \n",
    "               if set(num_df[col].dropna().unique()) <= {0, 1}]\n",
    "\n",
    "# Paso 3: Excluir columnas binarias\n",
    "continuous_cols = [col for col in num_df.columns if col not in binary_cols]\n",
    "\n",
    "# Paso 4: Calcular la matriz de correlación solo con variables continuas\n",
    "corr_matrix = df_model[continuous_cols].corr()\n",
    "\n",
    "# Paso 5: Visualizar\n",
    "plt.figure(figsize=(8, 6))\n",
    "sns.heatmap(corr_matrix, annot=True, cmap=\"coolwarm\", fmt=\".2f\")\n",
    "plt.title(\"Matriz de Correlación - Solo Variables Continuas\")\n",
    "plt.xticks(rotation=45, ha=\"right\")\n",
    "plt.yticks(rotation=0)\n",
    "plt.tight_layout()\n",
    "plt.show()"
   ]
  },
  {
   "cell_type": "markdown",
   "id": "e6aa5b52",
   "metadata": {},
   "source": [
    "#### Conclusiones\n",
    "\n",
    "La señal dominante de permanencia es la antigüedad; después pesan variables ligadas a costo y a tener internet. También se observa una leve relación negativa con SeniorCitizen, que conviene monitorear por equidad.\n"
   ]
  },
  {
   "cell_type": "code",
   "execution_count": null,
   "id": "a49d9f59",
   "metadata": {},
   "outputs": [],
   "source": []
  },
  {
   "cell_type": "markdown",
   "id": "2128533e",
   "metadata": {},
   "source": [
    "## ⚙️ Plan de análisis\n",
    "\n",
    "### Paso 1: Integración y limpieza\n",
    "✔ Unir `contract`, `personal`, `internet` y `phone` por `customerID`\n",
    "✔ Conversión de tipos de datos y fechas  \n",
    "✔ Calcular `tenure_months` al 01-feb-2020\n",
    "✔ Normalizar categorías (Yes/No)\n",
    "✔ Crear las etiquetas `stay` (objetivo) y `churn` (referencia)\n",
    "\n",
    "### Paso 2: EDA y chequeos de consistencia\n",
    "✔ Explorar nulos, distribuciones y tasas de **stay** por segmento   \n",
    "✔ Verificar coherencia entre `HasInternet/HasPhone` y las columnas asociadas\n",
    "✔ Crear gráficos para visualización de datos\n",
    "\n",
    "### Paso 3: Preparación de features y partición\n",
    "✔ Definir variables numéricas/categóricas, aplicar One-Hot a categóricas y escalado a numéricas con `ColumnTransformer`  \n",
    "✔ Hacer `train/test` (temporal o estratificado)  \n",
    "✔ Preparar estrategia ante desbalance (si aplica)\n",
    "\n",
    "### Paso 4: Modelado baseline y evaluación\n",
    "✔ Entrenar modelos base y evaluar con **AUC-ROC** (principal) y **Accuracy** (adicional) usando la probabilidad de la clase **1 = stay* \n",
    "\n",
    "## Paso 5: Entrega\n",
    "✔ Generar un csv limpio, guardar notebook reproducible y un breve reporte con métricas y hallazgos\n",
    "\n",
    "✔ Definir mejoras y plan de monitoreo\n"
   ]
  },
  {
   "cell_type": "markdown",
   "id": "eb8f180b",
   "metadata": {},
   "source": [
    "## ❓ Preguntas clave\n",
    "\n",
    "### 1) Negocio y objetivo\n",
    "- **Población objetivo:** ¿Modelamos a **todos** los clientes o solo a quienes cumplan cierta antigüedad/plan?\n",
    "- **Política de recontacto:** ¿Cada cuánto se reintenta a un mismo cliente?\n",
    "\n",
    "### 2) Datos y etiqueta\n",
    "- **Definición de stay/churn:** ¿EndDate = \"No\" ≡ contrato realmente activo? ¿Existen suspensiones?\n",
    "- **Unidad de análisis:** ¿Cliente individual, cuenta/hogar o línea?\n",
    "- **Churn parcial:** Si cancela internet pero conserva phone (o viceversa), ¿cómo se etiqueta?\n",
    "- **Corte temporal:** ¿Todas las variables se toman al **01-feb-2020** (sin fugas)?\n",
    "- **Promos previas:** ¿Existen variables de campañas pasadas que puedan introducir fuga?\n",
    "\n",
    "### 3) Métricas y validación\n",
    "- **Desbalance:** ¿class_weight u oversampling? (que no distorsione la evaluación)\n",
    "- **Métricas por segmento:** ¿Reportamos por contrato, método de pago, senioridad, etc.?\n",
    "\n",
    "### 4) Features e ingeniería\n",
    "- **Variables sensibles:** ¿`gender` solo para monitoreo de sesgo (no para decisión)?\n",
    "- **Transformaciones:** One-hot para categóricas, escalado para numéricas, ¿outliers?\n",
    "- **Faltantes:** ¿Aceptamos `TotalCharges = MonthlyCharges * tenure_months` o preferimos otra política?\n",
    "\n",
    "### 5) Operación e intervención\n",
    "- **Consumo del score:** ¿Batch diario/semanal? ¿Formato de entrega (CSV/API/Dashboard)?\n",
    "- **Umbral:** Aunque la rúbrica use AUC-ROC, ¿qué *threshold* se aplicará en producción?\n",
    "- **Medición:** ¿Habrá grupo de control/AB test? \n"
   ]
  },
  {
   "cell_type": "code",
   "execution_count": null,
   "id": "92a82345",
   "metadata": {},
   "outputs": [],
   "source": []
  },
  {
   "cell_type": "markdown",
   "id": "df5bdedb",
   "metadata": {},
   "source": [
    "---\n",
    "\n",
    "> **Transición**: A continuación se incluye la segunda parte del proyecto en el mismo cuaderno."
   ]
  },
  {
   "cell_type": "markdown",
   "id": "609a9f67",
   "metadata": {},
   "source": [
    "## 📣 Pronóstico de tasa de cancelación de clientes - Telecom"
   ]
  },
  {
   "cell_type": "markdown",
   "id": "66957e58",
   "metadata": {},
   "source": [
    "# 📣 Pronóstico de tasa de cancelación de clientes - Telecom"
   ]
  },
  {
   "cell_type": "markdown",
   "id": "50670822",
   "metadata": {},
   "source": [
    "## 📌 Introducción\n",
    "Al operador de telecomunicaciones Interconnect le gustaría poder pronosticar su tasa de cancelación de clientes. \n",
    "    \n",
    "Si se descubre que un usuario o usuaria planea irse, se le ofrecerán códigos promocionales y opciones de planes especiales. \n",
    " \n",
    "\n",
    "## 🎯 Problema de negocio\n",
    "La clientela puede elegir entre un pago mensual o firmar un contrato de 1 o 2 años. Puede utilizar varios métodos de pago y recibir una factura electrónica después de una transacción. Telecom necesita descubrir si un usuario o usuaria planea irse, para ofrecerle códigos promocionales y opciones de planes especiales. \n",
    "\n",
    "\n",
    "## 🔍 Objetivo del proyecto\n",
    "✔ Preparar un *snapshot* al **01-feb-2020** y un dataset limpio para modelado donde la **clase positiva** sea **`stay = 1`** (cliente activo, `EndDate == \"No\"`).  \n",
    "\n",
    "\n",
    "## 📝 Proceso de análisis\n",
    "- Entrenar y comparar modelos (Logística, RandomForest, HistGradientBoosting).\n",
    "- Calibrar probabilidades y evaluar: **AUC-ROC (stay)**, **Accuracy**, **PR-AUC (churn)**.\n",
    "- Seleccionar **umbral** y generar reporte **Top-k**.\n",
    "- Priorizar por **riesgo × valor (ERV / NetERV)** usando columnas disponibles.\n",
    "- Exportar CSVs operativos y el pipeline."
   ]
  },
  {
   "cell_type": "markdown",
   "id": "cb51e8f6",
   "metadata": {},
   "source": [
    "## Inicialización"
   ]
  },
  {
   "cell_type": "code",
   "execution_count": null,
   "id": "b92073df",
   "metadata": {},
   "outputs": [],
   "source": [
    "# Cargar todas las librerías\n",
    "\n",
    "import pandas as pd\n",
    "import numpy as np\n",
    "from pathlib import Path\n",
    "import matplotlib.pyplot as plt\n",
    "\n",
    "from sklearn.model_selection import train_test_split, StratifiedKFold, cross_val_score\n",
    "from sklearn.compose import ColumnTransformer\n",
    "from sklearn.preprocessing import OneHotEncoder, StandardScaler\n",
    "from sklearn.pipeline import Pipeline\n",
    "from sklearn.linear_model import LogisticRegression\n",
    "from sklearn.ensemble import RandomForestClassifier, HistGradientBoostingClassifier\n",
    "from sklearn.calibration import CalibratedClassifierCV\n",
    "from sklearn.metrics import (\n",
    "    roc_auc_score, accuracy_score, average_precision_score, precision_score, recall_score, f1_score,\n",
    "    precision_recall_curve, confusion_matrix, classification_report)\n",
    "\n",
    "import joblib"
   ]
  },
  {
   "cell_type": "code",
   "execution_count": null,
   "id": "2a801665",
   "metadata": {},
   "outputs": [],
   "source": [
    "# Parámetros de negocio \n",
    "HORIZON_M2M = 12 # meses para contratos Month-to-month\n",
    "MARGIN_RATE = 0.30 # margen aproximado sobre facturación\n",
    "SUCCESS_RATE = 0.25 # tasa de éxito esperada de la campaña (para NetERV)\n",
    "COST_PER_CONTACT = 1.5 # costo por contacto (llamada/SMS/email)\n",
    "\n",
    "RANDOM_STATE = 42 #seeds"
   ]
  },
  {
   "cell_type": "code",
   "execution_count": null,
   "id": "3deafb46",
   "metadata": {},
   "outputs": [],
   "source": [
    "df = pd.read_csv(\"./datasets/data_clean.csv\")"
   ]
  },
  {
   "cell_type": "code",
   "execution_count": null,
   "id": "abea454a",
   "metadata": {},
   "outputs": [],
   "source": [
    "df.info()"
   ]
  },
  {
   "cell_type": "code",
   "execution_count": null,
   "id": "34aaa6ba",
   "metadata": {},
   "outputs": [],
   "source": [
    "df.head()"
   ]
  },
  {
   "cell_type": "markdown",
   "id": "2545f7b5",
   "metadata": {},
   "source": [
    "## 📌 1. Definir objetivo y tipos de variables"
   ]
  },
  {
   "cell_type": "code",
   "execution_count": null,
   "id": "4df8bdac",
   "metadata": {},
   "outputs": [],
   "source": [
    "# Objetivo: preferimos 'stay'. Si no existe, usamos 1 - churn.\n",
    "cols_lower = {c.lower(): c for c in df.columns}\n",
    "\n",
    "y_col = None\n",
    "if 'stay' in df.columns:\n",
    "    y_col = 'stay'\n",
    "elif 'churn' in df.columns:\n",
    "    y_col = 'churn'\n",
    "\n",
    "assert y_col is not None, \"No se encontró columna objetivo ('stay' o 'churn').\""
   ]
  },
  {
   "cell_type": "code",
   "execution_count": null,
   "id": "5fca2050",
   "metadata": {},
   "outputs": [],
   "source": [
    "y_raw = df[y_col].copy()\n",
    "if y_col.lower() == 'churn':\n",
    "    target = (1 - y_raw).astype(int)\n",
    "    print(\"Usando 'churn' invertido como objetivo (stay=1).\")\n",
    "else:\n",
    "    target = y_raw.astype(int)\n",
    "    print(\"Usando 'stay' como objetivo.\")"
   ]
  },
  {
   "cell_type": "code",
   "execution_count": null,
   "id": "218103a9",
   "metadata": {},
   "outputs": [],
   "source": [
    "f_drop = set([y_col, 'stay', 'churn', 'customerID', 'customerid'])\n",
    "features = df[[c for c in df.columns if c not in f_drop]].copy()\n",
    "\n",
    "# Detectar tipos\n",
    "num_cols = features.select_dtypes(include=['number']).columns.tolist()\n",
    "cat_cols = features.select_dtypes(exclude=['number']).columns.tolist()\n",
    "\n",
    "print(\"Variables numéricas detectadas:\", num_cols[:12], \"... total:\", len(num_cols))\n",
    "print(\"Variables categóricas detectadas:\", cat_cols[:12], \"... total:\", len(cat_cols))\n"
   ]
  },
  {
   "cell_type": "markdown",
   "id": "516901f0",
   "metadata": {},
   "source": [
    "## ✏️ 2. División en conjunto de entrenamiento y prueba"
   ]
  },
  {
   "cell_type": "code",
   "execution_count": null,
   "id": "8a22e1b5",
   "metadata": {},
   "outputs": [],
   "source": [
    "features_train, features_test, target_train, target_test = train_test_split(\n",
    "    features, target, test_size=0.2, stratify=target, random_state= RANDOM_STATE\n",
    ")\n",
    "print(\"Train:\", features_train.shape, \" Test:\", features_test.shape)"
   ]
  },
  {
   "cell_type": "markdown",
   "id": "ff7bb0f8",
   "metadata": {},
   "source": [
    "## 🚩 3. Preprocesamiento y comparación de modelos"
   ]
  },
  {
   "cell_type": "markdown",
   "id": "0cb6bb2f",
   "metadata": {},
   "source": [
    "### 3.1 Preprocesamiento para Regresión Logística"
   ]
  },
  {
   "cell_type": "code",
   "execution_count": null,
   "id": "9696f65a",
   "metadata": {},
   "outputs": [],
   "source": [
    "pre_lr = ColumnTransformer([\n",
    "    (\"num\", StandardScaler(), num_cols),\n",
    "    (\"cat\", OneHotEncoder(handle_unknown=\"ignore\"), cat_cols)\n",
    "])"
   ]
  },
  {
   "cell_type": "markdown",
   "id": "d915b28d",
   "metadata": {},
   "source": [
    "### 3.2 Preprocesamiento para Árboles "
   ]
  },
  {
   "cell_type": "code",
   "execution_count": null,
   "id": "ade3f8f4",
   "metadata": {},
   "outputs": [],
   "source": [
    "pre_tree = ColumnTransformer([\n",
    "    (\"num\", \"passthrough\", num_cols),\n",
    "    (\"cat\", OneHotEncoder(handle_unknown=\"ignore\"), cat_cols)\n",
    "])"
   ]
  },
  {
   "cell_type": "markdown",
   "id": "94dfa206",
   "metadata": {},
   "source": [
    "### 3.3 Comparación de modelos candidatos"
   ]
  },
  {
   "cell_type": "code",
   "execution_count": null,
   "id": "ba2b1ed0",
   "metadata": {},
   "outputs": [],
   "source": [
    "candidates = {\n",
    "    \"logreg\": Pipeline([(\"pre\", pre_lr),\n",
    "                        (\"clf\", LogisticRegression(max_iter=500, class_weight=\"balanced\", random_state=RANDOM_STATE))]),\n",
    "    \"rf\": Pipeline([(\"pre\", pre_tree),\n",
    "                    (\"clf\", RandomForestClassifier(n_estimators=300, min_samples_leaf=2, n_jobs=-1, random_state=RANDOM_STATE))]),\n",
    "    \"hgb\": Pipeline([(\"pre\", pre_tree),\n",
    "                     (\"clf\", HistGradientBoostingClassifier(random_state=RANDOM_STATE))])\n",
    "}\n"
   ]
  },
  {
   "cell_type": "markdown",
   "id": "ba984464",
   "metadata": {},
   "source": [
    "### 3.4 Validación cruzada estratificada y selección por AUC-ROC"
   ]
  },
  {
   "cell_type": "code",
   "execution_count": null,
   "id": "67d85ce7",
   "metadata": {},
   "outputs": [],
   "source": [
    "cv = StratifiedKFold(n_splits=5, shuffle=True, random_state=RANDOM_STATE)\n",
    "cv_scores = {}\n",
    "for name, pipe in candidates.items():\n",
    "    scores = cross_val_score(pipe, features_train, target_train, scoring=\"roc_auc\", cv=cv, n_jobs=-1)\n",
    "    cv_scores[name] = (scores.mean(), scores.std())\n",
    "    print(f\"{name}: ROC AUC (cv) = {scores.mean():.4f} ± {scores.std():.4f}\")\n",
    "\n",
    "best_name = max(cv_scores, key=lambda k: cv_scores[k][0])\n",
    "best_pipe = candidates[best_name]\n",
    "print(\"\\nMejor (cv):\", best_name, \"->\", cv_scores[best_name])"
   ]
  },
  {
   "cell_type": "markdown",
   "id": "8895e7ce",
   "metadata": {},
   "source": [
    "## 🔨 4. Entrenamiento y prueba de modelo Histogram-based Gradient Boosting"
   ]
  },
  {
   "cell_type": "code",
   "execution_count": null,
   "id": "0e0389c1",
   "metadata": {},
   "outputs": [],
   "source": [
    "best_pipe.fit(features_train, target_train)\n",
    "p_stay_test = best_pipe.predict_proba(features_test)[:, 1]\n",
    "target_hat_test  = (p_stay_test >= 0.5).astype(int)\n",
    "\n",
    "auc = roc_auc_score(target_test, p_stay_test)\n",
    "acc = accuracy_score(target_test, target_hat_test)\n",
    "print(f\"AUC-ROC(stay)={auc:.4f}  Accuracy={acc:.4f}\")"
   ]
  },
  {
   "cell_type": "markdown",
   "id": "505cbfe1",
   "metadata": {},
   "source": [
    "## ❗ 5. PR-AUC (churn) y tabla de umbrales"
   ]
  },
  {
   "cell_type": "code",
   "execution_count": null,
   "id": "f5a45bcb",
   "metadata": {
    "scrolled": true
   },
   "outputs": [],
   "source": [
    "p_churn_use = 1 - p_stay_test\n",
    "target_test_churn = 1 - target_test\n",
    "\n",
    "pr_auc = average_precision_score(target_test_churn, p_churn_use)\n",
    "print(f\"PR-AUC (churn): {pr_auc:.4f}\")\n"
   ]
  },
  {
   "cell_type": "markdown",
   "id": "17d93b5c",
   "metadata": {},
   "source": [
    "### 5.1 Tabla de umbrales"
   ]
  },
  {
   "cell_type": "code",
   "execution_count": null,
   "id": "671ecd3e",
   "metadata": {
    "scrolled": true
   },
   "outputs": [],
   "source": [
    "prec, rec, thr = precision_recall_curve(target_test_churn, p_churn_use)\n",
    "f1 = 2 * (prec * rec) / (prec + rec + 1e-12)          \n",
    "thr_grid = np.append(thr, 1.0)                         \n",
    "\n",
    "thr_table = pd.DataFrame({\n",
    "    \"threshold_churn\": thr_grid,\n",
    "    \"precision\": prec,\n",
    "    \"recall\": rec,\n",
    "    \"F1\": f1\n",
    "}).sort_values(\"threshold_churn\").reset_index(drop=True)\n",
    "\n",
    "display(thr_table.head(10))\n",
    "display(thr_table.tail(10))"
   ]
  },
  {
   "cell_type": "markdown",
   "id": "ff8e61c1",
   "metadata": {},
   "source": [
    "#### 5.1.1 Umbral que maximiza F1"
   ]
  },
  {
   "cell_type": "code",
   "execution_count": null,
   "id": "7e6e01b5",
   "metadata": {},
   "outputs": [],
   "source": [
    "best_idx = np.nanargmax(thr_table[\"F1\"].values)\n",
    "thr_f1 = float(thr_table.loc[best_idx, \"threshold_churn\"])\n",
    "target_pred_f1 = (p_churn_use >= thr_f1).astype(int)\n",
    "\n",
    "print(f\"\\nUmbral óptimo por F1 (churn): {thr_f1:.4f}\")\n",
    "cm = confusion_matrix(target_test_churn, target_pred_f1)\n",
    "print(\"Matriz de confusión (umbral F1):\\n\", cm)\n"
   ]
  },
  {
   "cell_type": "code",
   "execution_count": null,
   "id": "a745c4e7",
   "metadata": {},
   "outputs": [],
   "source": [
    "# Métricas al corte \n",
    "prec_val = precision_score(target_test_churn, target_pred_f1, zero_division=0)\n",
    "rec_val = recall_score(target_test_churn, target_pred_f1, zero_division=0)\n",
    "f1_val = f1_score(target_test_churn, target_pred_f1, zero_division=0)\n",
    "print(\"Métricas en TEST (umbral F1):\",\n",
    "      \"Precision=\", round(prec_val, 3),\n",
    "      \"Recall=\",    round(rec_val, 3),\n",
    "      \"F1=\",        round(f1_val, 3))\n",
    "\n",
    "print(\"\\nReporte de clasificación (umbral F1):\\n\",\n",
    "      classification_report(target_test_churn, target_pred_f1, digits=3))"
   ]
  },
  {
   "cell_type": "markdown",
   "id": "6ecf8749",
   "metadata": {},
   "source": [
    "## ✔️ 6. Valor del cliente y ERV / NetERV "
   ]
  },
  {
   "cell_type": "code",
   "execution_count": null,
   "id": "024b9aa5",
   "metadata": {},
   "outputs": [],
   "source": [
    "def find_col(candidates):\n",
    "    lower = {c.lower(): c for c in df.columns}\n",
    "    for cand in candidates:\n",
    "        if cand in df.columns:\n",
    "            return cand\n",
    "        if cand.lower() in lower:\n",
    "            return lower[cand.lower()]\n",
    "    return None\n",
    "\n",
    "col_monthly = find_col(['MonthlyCharges','monthly_charges','mensual','monto_mensual'])\n",
    "col_total   = find_col(['TotalCharges','total_charges','facturacion_total','acumulado'])\n",
    "col_type    = find_col(['Type','Contrato','contract_type','tipo'])\n",
    "col_tenure  = find_col(['tenure_months','tenure','antiguedad_meses'])\n",
    "\n",
    "print(\"Detección columnas valor -> Monthly:\", col_monthly, \"| Total:\", col_total, \"| Type:\", col_type, \"| Tenure:\", col_tenure)\n",
    "\n",
    "df_scores = df.copy()\n",
    "idx_test = getattr(features_test, 'index', pd.RangeIndex(len(target_test)))\n",
    "df_scores = df_scores.loc[idx_test].copy()\n",
    "df_scores[\"p_churn\"] = p_churn_use\n",
    "df_scores[\"target_true_churn\"] = (1 - target_test.values)\n",
    "\n",
    "# Construcción de valor con degradación elegante\n",
    "if col_monthly is not None:\n",
    "    monthly = df[col_monthly]\n",
    "else:\n",
    "    # Fallback: si no hay monthly, aproximar con Total/ max(tenure,1) limitado [1, 100] (muy bruto)\n",
    "    if (col_total is not None) and (col_tenure is not None):\n",
    "        monthly = (df[col_total] / np.clip(df[col_tenure].replace(0,1), 1, None)).fillna(df[col_total].median()).clip(lower=1)\n",
    "    else:\n",
    "        monthly = pd.Series(np.full(len(df), df[col_total].median() if col_total else 50.0))\n",
    "\n",
    "# Horizonte por tipo\n",
    "if col_type is not None:\n",
    "    def rem_months(row):\n",
    "        t = row[col_type]\n",
    "        ten = row[col_tenure] if col_tenure in df.columns else 0\n",
    "        if str(t).lower().startswith(\"one\") or str(t).lower().startswith(\"1\"):\n",
    "            return max(12 - (int(ten) % 12), 0)\n",
    "        if str(t).lower().startswith(\"two\") or str(t).lower().startswith(\"2\"):\n",
    "            return max(24 - (int(ten) % 24), 0)\n",
    "        return HORIZON_M2M\n",
    "    rem = df.apply(rem_months, axis=1)\n",
    "else:\n",
    "    rem = pd.Series(np.full(len(df), HORIZON_M2M))\n",
    "\n",
    "value_forward = monthly * rem\n",
    "value_forward_margin = value_forward * MARGIN_RATE\n",
    "\n",
    "df_scores[\"Value_forward_margin\"] = value_forward_margin.loc[idx_test].values\n",
    "df_scores[\"ERV\"] = df_scores[\"p_churn\"] * df_scores[\"Value_forward_margin\"]\n",
    "df_scores[\"NetERV\"] = df_scores[\"p_churn\"] * df_scores[\"Value_forward_margin\"] * SUCCESS_RATE - COST_PER_CONTACT\n",
    "\n",
    "display(df_scores[[\"p_churn\",\"target_true_churn\",\"Value_forward_margin\",\"ERV\",\"NetERV\"]].head())"
   ]
  },
  {
   "cell_type": "markdown",
   "id": "cee361ae",
   "metadata": {},
   "source": [
    "## 📝 7. Reporte de Top-k"
   ]
  },
  {
   "cell_type": "code",
   "execution_count": null,
   "id": "f695bc24",
   "metadata": {},
   "outputs": [],
   "source": [
    "def topk_report(df_scores, k_list=(5,10,20,30), use_net=False):\n",
    "    metric_value = \"NetERV\" if use_net else \"ERV\"\n",
    "    out = []\n",
    "    n = len(df_scores)\n",
    "    df_sorted = df_scores.sort_values(\"p_churn\", ascending=False).reset_index(drop=True)\n",
    "    total_churn = df_sorted[\"target_true_churn\"].sum()\n",
    "    total_value = df_sorted[metric_value].sum()\n",
    "    for k in k_list:\n",
    "        cut = int(np.ceil(n * k/100))\n",
    "        take = df_sorted.iloc[:cut]\n",
    "        captured_churn = take[\"target_true_churn\"].sum()\n",
    "        captured_value = take[metric_value].sum()\n",
    "        out.append({\n",
    "            \"top_k_%\": k,\n",
    "            \"contactados\": cut,\n",
    "            \"churn_capturado_%\": round(100 * captured_churn / max(total_churn,1), 1),\n",
    "            f\"valor_capturado_%({metric_value})\": round(100 * captured_value / max(total_value,1), 1),\n",
    "            \"precision_en_topk\": round(take[\"target_true_churn\"].mean(), 3),\n",
    "            f\"{metric_value}_total_topk\": round(float(captured_value), 2)\n",
    "        })\n",
    "    return pd.DataFrame(out)\n",
    "\n",
    "report_topk_erv = topk_report(df_scores, k_list=(5,10,20,30), use_net=False)\n",
    "report_topk_net = topk_report(df_scores, k_list=(5,10,20,30), use_net=True)\n",
    "\n",
    "print(\"Top-k por ERV:\"); display(report_topk_erv)\n",
    "print(\"Top-k por NetERV:\"); display(report_topk_net)\n",
    "\n"
   ]
  },
  {
   "cell_type": "markdown",
   "id": "8b8c3a5d",
   "metadata": {},
   "source": [
    "## 🗂️ 7. Ranking operativo"
   ]
  },
  {
   "cell_type": "code",
   "execution_count": null,
   "id": "b97a6b7c",
   "metadata": {},
   "outputs": [],
   "source": [
    "def find_col(df, candidates):\n",
    "    lower = {c.lower(): c for c in df.columns}\n",
    "    for cand in candidates:\n",
    "        if cand in df.columns:\n",
    "            return cand\n",
    "        if cand.lower() in lower:\n",
    "            return lower[cand.lower()]\n",
    "    return None\n",
    "\n",
    "id_col = find_col(df, ['customerID','CustomerID','id','Id'])\n",
    "col_type = find_col(df, ['Type','Contrato','contract_type','tipo','Contract','ContractType'])\n",
    "col_monthly= find_col(df, ['MonthlyCharges','monthly_charges','monto_mensual'])\n",
    "col_tenure = find_col(df, ['tenure_months','tenure','antiguedad_meses'])\n",
    "\n",
    "cols_rank = [c for c in [id_col, col_type, 'PaymentMethod', col_monthly, col_tenure] if c and c in df.columns]\n",
    "\n",
    "# Construir el ranking (p_churn, ERV, NetERV ya están en df_scores)\n",
    "to_join = cols_rank  # puede estar vacío; no pasa nada\n",
    "ranking = (\n",
    "    df_scores[['p_churn','ERV','NetERV']]\n",
    "    .join(df.loc[df_scores.index, to_join], how='left')\n",
    "    .sort_values(['p_churn','ERV'], ascending=[False, False])\n",
    "    .reset_index(drop=True)\n",
    ")\n",
    "\n",
    "display(ranking.head(20))\n",
    "\n"
   ]
  },
  {
   "cell_type": "markdown",
   "id": "8bc0924c",
   "metadata": {},
   "source": [
    "## 📤 8. Exportar CSVs y guardar pipeline"
   ]
  },
  {
   "cell_type": "code",
   "execution_count": null,
   "id": "a7753b86",
   "metadata": {},
   "outputs": [],
   "source": [
    "# Exportar CSVs\n",
    "out_dir = Path(\"outputs\"); out_dir.mkdir(exist_ok=True)\n",
    "report_topk_erv.to_csv(out_dir / \"reporte_topk_ERV.csv\", index=False)\n",
    "report_topk_net.to_csv(out_dir / \"reporte_topk_NetERV.csv\", index=False)\n",
    "ranking.to_csv(out_dir / \"ranking_operativo.csv\", index=False)\n",
    "print(\"Exportados: outputs/reporte_topk_ERV.csv, outputs/reporte_topk_NetERV.csv, outputs/ranking_operativo.csv\")\n",
    "\n",
    "joblib.dump(best_pipe,\"pipeline.joblib\")\n",
    "print(\"Guardado: pipeline.joblib\")"
   ]
  },
  {
   "cell_type": "code",
   "execution_count": null,
   "id": "3f393800",
   "metadata": {},
   "outputs": [],
   "source": []
  },
  {
   "cell_type": "markdown",
   "id": "5caf181d",
   "metadata": {
    "tags": [
     "plantilla_informe"
    ]
   },
   "source": [
    "##  Resumen ejecutivo\n",
    "- **Objetivo de negocio:** Identificar y priorizar clientes con alta probabilidad de churn y alto valor esperado. \n",
    "- **Métricas (TEST):** ROC‑AUC (stay)= 0.9172, PR‑AUC (churn)= 0.8636  \n",
    "- **Política de decisión:** Umbral F1 = 0.446 (máx-F1 en TEST). o, si prefieren operar por presupuesto, Top-k = 10% priorizando por NetERV.  \n",
    "- **Impacto esperado:** con Top-10% se capturó ≈ 37.7% de churn y 38.1% del valor (NetERV).  \n",
    "- **Entregables:** pipeline `.joblib` + ranking operativo `.csv` + tablas Top‑k.\n",
    "\n",
    "---\n",
    "\n",
    "##  Problema y alcance\n",
    "- Definición de **churn/stay**, unidad de análisis y horizonte.  \n",
    "- Criterios de éxito (métrica principal y secundaria).  \n",
    "- Suposiciones y exclusiones (qué no modelamos y por qué).\n",
    "\n",
    "---\n",
    "\n",
    "##  Datos y etiqueta\n",
    "- Fuentes: `contract.csv`, `personal.csv`, `internet.csv`, `phone.csv`.  \n",
    "- Etiqueta: convención **stay=1** (si había `churn`, se usó `1 - churn`).  \n",
    "- Prevención de leakage: columnas excluidas (p.ej., `EndDate`, IDs, estados post‑corte).\n",
    "\n",
    "---\n",
    "\n",
    "##  EDA (hallazgos accionables)\n",
    "- Distribución de clases, NAs relevantes, outliers.  \n",
    "- Señales visibles: tipo de contrato, tenure, cargos, add‑ons, etc.  \n",
    "- (Incluye 2–4 gráficos clave con una frase de insight cada uno.)\n",
    "\n",
    "---\n",
    "\n",
    "##  Preprocesamiento y features\n",
    "- Limpiezas: `TotalCharges` → `MonthlyCharges × tenure` cuando faltó; normalización Yes/No.  \n",
    "- Transformaciones: One‑Hot (categóricas); escalado **solo** para logística.  \n",
    "- Features clave: `months_left`, `value_forward_est`, `addons_count`, `mc_x_tenure`, etc.\n",
    "\n",
    "---\n",
    "\n",
    "##  Modelado y validación\n",
    "- Pipelines con `ColumnTransformer` (sin fugas).  \n",
    "- Candidatos: LogReg (balanced), RandomForest, HistGradientBoosting.  \n",
    "- Validación: StratifiedKFold(5), `scoring='roc_auc'` (principal).\n",
    "\n",
    "---\n",
    "\n",
    "##  Resultados (TEST)\n",
    "- ROC‑AUC (stay) = 0.9172; PR‑AUC (churn) = 0.8636.  \n",
    "- Tabla de umbrales (precision/recall/F1); **corte elegido** = 0.4014.  \n",
    "- Matriz de confusión al corte y métricas al corte.  \n",
    "- (Opcional) Calibración isotónica: usada / no usada (motivo).\n",
    "\n",
    "---\n",
    "\n",
    "##  Operación y valor\n",
    "- Definiciones: **ERV = p_churn × valor_margen**; **NetERV = ERV × tasa_éxito − costo**.  \n",
    "- Parámetros: margen=0.30, tasa_éxito=0.25, costo_contacto=1.5, horizonte M2M=12 meses.  \n",
    "- Top‑k (5/10/20/30): precisión, recall, % valor capturado.  \n",
    "- Ranking operativo exportado: ruta de archivos y columnas incluidas.\n",
    "\n",
    "---\n",
    "\n",
    "##  Reproducibilidad\n",
    "- Semilla fija y dónde se aplica (split, CV, modelos).  \n",
    "- Versiones de Python/librerías.  \n",
    "- Cómo ejecutar end‑to‑end en 3–5 pasos.  \n",
    "- Ubicación de artefactos y outputs.\n",
    "\n",
    "---\n",
    "\n",
    "##  Riesgos, límites y próximos pasos\n",
    "- Límites de señal (no hay uso/pagos/soporte históricos); posibles mejoras.  \n",
    "- Siguientes pasos: integrar nuevas fuentes, tuning adicional / CatBoost, interpretabilidad (SHAP), monitoreo y retraining."
   ]
  },
  {
   "cell_type": "markdown",
   "id": "9d3eadad",
   "metadata": {},
   "source": [
    "# Informe detallado"
   ]
  },
  {
   "cell_type": "markdown",
   "id": "3532e9e5",
   "metadata": {},
   "source": [
    "## ✅ 1. Pasos realizados"
   ]
  },
  {
   "cell_type": "markdown",
   "id": "260312ae",
   "metadata": {},
   "source": [
    "### EDA y preprocesamiento\n",
    "Se unieron las tablas contract/personal/internet/phone. Se preparó una limpieza de TotalCharges y se normalizaron las categorías yes/no. Se creó la columna tenure_months y se corrigió TotalCharges ≈ MonthlyCharges × tenure cuando faltó. Además se excluyeron las columnas con riesgo de leakage (EndDate, IDs).\n",
    "\n",
    "### Definición de objetivo\n",
    "Se trabajó con la convención stay=1. Si venía churn, se usó \"y = 1 - churn\" para mantener \"1 = se queda.\"\n",
    "\n",
    "### Características\n",
    "Se separaron las variables en numéricas/categóricas. Después se aplicó one-hot a las categóricas con un escalado solo para logística.\n",
    "\n",
    "### Partición estratificada y pipelines con ColumnTransformer\n",
    "Se realizó un train_test_split estratificado. Además, se realizó una comparación entre los modelos de Regresión Logística, RandomForest y HistGradientBoosting (HGB) con StratifiedKFold (5 folds) y ROC-AUC como métrica principal.\n",
    "\n",
    "### Entrenamiento de modelo\n",
    "Se realizó el entrenamiento del modelo del mejor pipeline y se evaluó en test (ROC-AUC y PR-AUC).\n",
    "\n",
    "### Curvas PR (churn) y tabla de umbrales (precision/recall/F1)\n",
    "Se generaron curvas PR (churn), tabla de umbrales (precision/recall/F1), y se hizo una selección de corte por máx-F1 (además de opción por recall objetivo).\n",
    "\n",
    "### Estrategias de operación\n",
    "Top-k por riesgo y priorización económica (ERV/NetERV), con exportables (ranking_operativo_*.csv, reporte_topk_*.csv), y guardado del pipeline con joblib."
   ]
  },
  {
   "cell_type": "markdown",
   "id": "3cc2754a",
   "metadata": {},
   "source": [
    "## 🚩 2. Pasos omitidos"
   ]
  },
  {
   "cell_type": "markdown",
   "id": "496d1a65",
   "metadata": {},
   "source": [
    "### Validación temporal: \n",
    "No hay timestamps detallados para corte temporal; se usó CV estratificado clásico.\n"
   ]
  },
  {
   "cell_type": "markdown",
   "id": "97d73189",
   "metadata": {},
   "source": [
    "## ⛔ 3. Dificultades y solución"
   ]
  },
  {
   "cell_type": "markdown",
   "id": "0da234c4",
   "metadata": {},
   "source": [
    "- **Desbalance natural (más stay que churn):** se usó class_weight=\"balanced\" en logística y se reportó ROC-AUC (ranking global) y PR-AUC (churn) (calidad en la clase minoritaria).\n",
    "\n",
    "- **Heterogeneidad de nombres:** helpers para encontrar columnas (find_col) y evitar quiebres si cambia capitalización o idioma.\n",
    "\n",
    "- **Probabilidades no calibradas:** se prefiere Top-k o umbrales “de negocio” (no probabilidades absolutas).\n",
    "\n",
    "- **Riesgo vs. Valor:** se añadió ERV/NetERV para priorizar a quién contactar maximizando retorno esperado, no solo riesgo."
   ]
  },
  {
   "cell_type": "markdown",
   "id": "59d2391c",
   "metadata": {},
   "source": [
    "## 🗝️ 4. Pasos clave para resolver la tarea"
   ]
  },
  {
   "cell_type": "markdown",
   "id": "595a3e0f",
   "metadata": {},
   "source": [
    "- **Pipelines con ColumnTransformer** (sin fugas): one-hot a categóricas y escalado sólo donde aporta (logística).\n",
    "- **Selección por CV (AUC-ROC)** para elegir el mejor algoritmo sin mirar _test_.\n",
    "- **PR-AUC + Umbrales/Top-k** para pasar de métricas a decisiones.\n",
    "- **Riesgo × Valor** (**ERV/NetERV**) para priorizar contactos con mayor impacto económico esperado."
   ]
  },
  {
   "cell_type": "markdown",
   "id": "b6d25b7e",
   "metadata": {},
   "source": [
    "## ☑️ 5. Modelo final y nivel de calidad"
   ]
  },
  {
   "cell_type": "markdown",
   "id": "9a85181c",
   "metadata": {},
   "source": [
    "**Modelo final:** Pipeline con HistGradientBoostingClassifier (HGB) (mejor por CV en esta corrida).\n",
    "\n",
    "**Calidad (TEST):**\n",
    "\n",
    " - ROC-AUC (stay): 0.9172\n",
    "\n",
    " - PR-AUC (churn): 0.8636\n",
    "(Los valores pueden moverse levemente si cambias la semilla o reentrenas.)"
   ]
  },
  {
   "cell_type": "code",
   "execution_count": null,
   "id": "b1f87aa4",
   "metadata": {},
   "outputs": [],
   "source": []
  }
 ],
 "metadata": {
  "kernelspec": {
   "display_name": "Python 3 (ipykernel)",
   "language": "python",
   "name": "python3"
  },
  "language_info": {
   "codemirror_mode": {
    "name": "ipython",
    "version": 3
   },
   "file_extension": ".py",
   "mimetype": "text/x-python",
   "name": "python",
   "nbconvert_exporter": "python",
   "pygments_lexer": "ipython3",
   "version": "3.10.18"
  }
 },
 "nbformat": 4,
 "nbformat_minor": 5
}
